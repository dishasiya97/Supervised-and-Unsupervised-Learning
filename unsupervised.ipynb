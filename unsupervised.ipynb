{
 "cells": [
  {
   "cell_type": "code",
   "execution_count": null,
   "metadata": {},
   "outputs": [],
   "source": [
    "clustering"
   ]
  },
  {
   "cell_type": "code",
   "execution_count": 1,
   "metadata": {},
   "outputs": [
    {
     "data": {
      "text/html": [
       "<div>\n",
       "<style scoped>\n",
       "    .dataframe tbody tr th:only-of-type {\n",
       "        vertical-align: middle;\n",
       "    }\n",
       "\n",
       "    .dataframe tbody tr th {\n",
       "        vertical-align: top;\n",
       "    }\n",
       "\n",
       "    .dataframe thead th {\n",
       "        text-align: right;\n",
       "    }\n",
       "</style>\n",
       "<table border=\"1\" class=\"dataframe\">\n",
       "  <thead>\n",
       "    <tr style=\"text-align: right;\">\n",
       "      <th></th>\n",
       "      <th>preprocessedtext</th>\n",
       "    </tr>\n",
       "  </thead>\n",
       "  <tbody>\n",
       "    <tr>\n",
       "      <th>0</th>\n",
       "      <td>[Canadian, Occidental, Petroleum, Ltd., emerge...</td>\n",
       "    </tr>\n",
       "    <tr>\n",
       "      <th>1</th>\n",
       "      <td>[Bank, America, launch, three, year, \"We, goin...</td>\n",
       "    </tr>\n",
       "    <tr>\n",
       "      <th>2</th>\n",
       "      <td>[Deutsche, Bank, AG, management, board, member...</td>\n",
       "    </tr>\n",
       "    <tr>\n",
       "      <th>3</th>\n",
       "      <td>[European, bourses, fell, Tuesday, even, Wall,...</td>\n",
       "    </tr>\n",
       "    <tr>\n",
       "      <th>4</th>\n",
       "      <td>[French, shares, closed, lower, Tuesday, secon...</td>\n",
       "    </tr>\n",
       "  </tbody>\n",
       "</table>\n",
       "</div>"
      ],
      "text/plain": [
       "                                    preprocessedtext\n",
       "0  [Canadian, Occidental, Petroleum, Ltd., emerge...\n",
       "1  [Bank, America, launch, three, year, \"We, goin...\n",
       "2  [Deutsche, Bank, AG, management, board, member...\n",
       "3  [European, bourses, fell, Tuesday, even, Wall,...\n",
       "4  [French, shares, closed, lower, Tuesday, secon..."
      ]
     },
     "execution_count": 1,
     "metadata": {},
     "output_type": "execute_result"
    }
   ],
   "source": [
    "#importing libraries\n",
    "import os\n",
    "import re\n",
    "import requests\n",
    "from nltk.stem import PorterStemmer\n",
    "from nltk.stem import WordNetLemmatizer\n",
    "from nltk.corpus import stopwords\n",
    "import numpy as np\n",
    "from xml.etree import ElementTree\n",
    "import pandas as pd\n",
    "from sklearn.feature_extraction.text import TfidfVectorizer\n",
    "import matplotlib.pyplot as plt\n",
    "import warnings\n",
    "from sklearn.preprocessing import LabelEncoder\n",
    "#specifying the path of files\n",
    "path='C:\\Data'\n",
    "xmlf = []\n",
    "#storing the files\n",
    "for rt, di, fi in os.walk(path):\n",
    "    for fs in fi:\n",
    "        if '.xml' in fs:\n",
    "            xmlf.append(os.path.join(rt,fs))\n",
    "def stprem():\n",
    "        wstp=[]\n",
    "        st = stopwords.words('english')\n",
    "        lem = WordNetLemmatizer()\n",
    "        dfcols=['preprocessedtext'] \n",
    "        #iterating through each xml file \n",
    "        for l in xmlf:\n",
    "            #parsing through xml file as tree       \n",
    "            tree =ElementTree.parse(l)\n",
    "            root=tree.getroot()\n",
    "            lst=[]\n",
    "            for chd in root:    \n",
    "           \n",
    "            #iterating through text data in xml file\n",
    "            for n in chd.iter('text'):\n",
    "                for i in n:\n",
    "                    pt=i.text\n",
    "                  #removing the special characters,digits\n",
    "                    reg=re.sub('[\\s,*]|\\W\\d{1,5}[^)(]*|[\\s,-]',\" \",pt)\n",
    "                  #lemmatization \n",
    "                    r=lem.lemmatize(reg)            \n",
    "                for word in r.split():\n",
    "                          #removing stopwords\n",
    "                        if word not in st:               \n",
    "                            lst.append(word)\n",
    "                            pp=lst\n",
    "                \n",
    "            wstp.append({\"preprocessedtext\":pp}) \n",
    "        global ppt\n",
    "        #creating new dataframe with preprocessed text\n",
    "        ppt=pd.DataFrame(wstp,columns=dfcols)\n",
    "stprem()\n",
    "\n",
    "ppt.head()    "
   ]
  },
  {
   "cell_type": "code",
   "execution_count": 2,
   "metadata": {},
   "outputs": [],
   "source": [
    "lab=pd.DataFrame()\n",
    "lst=[]\n",
    "for l in xmlf:\n",
    "    biptopic=[]\n",
    "    \n",
    "    tree =ElementTree.parse(l)\n",
    "    root=tree.getroot()\n",
    "   \n",
    "    for chd in root:         \n",
    "        for t in chd.iter('metadata'):\n",
    "           \n",
    "            for codes in t.iterfind(\".//codes[@class='bip:topics:1.0']\"):\n",
    "                       \n",
    "                for code in codes.iter(\"code\"):\n",
    "                           \n",
    "                    biptopic.append(code.get('code'))\n",
    "    lst.append(biptopic)                            \n",
    "         \n",
    "lab['bip']=lst\n",
    "dfr=pd.DataFrame()\n",
    "val=[]\n",
    "for fl in xmlf:\n",
    "    name= fl.replace(\"C:\\Data\\\\\",\"\")\n",
    "    val.append(name)  \n",
    "dfr['filename']=val   "
   ]
  },
  {
   "cell_type": "code",
   "execution_count": 3,
   "metadata": {},
   "outputs": [],
   "source": [
    "df1=pd.DataFrame()\n",
    "df1= pd.concat([ppt,lab,dfr], ignore_index=True, axis=1)\n",
    "df1.columns = ['text','bip','filename']\n",
    "df1['text'] = df1['text'].apply(lambda x: ' '.join([w for w in x if len(w)>3]))\n",
    "df1['text'] = df1['text'].apply(lambda x: x.lower())\n",
    "df1['text'] = df1['text'].str.replace(\"[^a-zA-Z#]\", \" \")\n",
    "lm = WordNetLemmatizer() \n",
    "ps=PorterStemmer()\n",
    "df1['text'] = df1['text'].apply(lambda x: ' '.join([ps.stem(w) for w in x.split()]))"
   ]
  },
  {
   "cell_type": "code",
   "execution_count": 42,
   "metadata": {},
   "outputs": [
    {
     "name": "stdout",
     "output_type": "stream",
     "text": [
      "                                                text  \\\n",
      "0  canadian occident petroleum ltd emerg tuesday ...   \n",
      "1  bank america launch three year go forward synd...   \n",
      "2  deutsch bank manag board member rolf breuer sa...   \n",
      "3  european bours fell tuesday even wall street o...   \n",
      "4  french share close lower tuesday second consec...   \n",
      "\n",
      "                                 bip          filename  \n",
      "0                             [C181]  326914newsML.xml  \n",
      "1                             [C173]  326915newsML.xml  \n",
      "2                  [C18, C181, CCAT]  326916newsML.xml  \n",
      "3  [M11, M13, M132, M14, M142, MCAT]  326917newsML.xml  \n",
      "4                        [G152, M11]  326918newsML.xml  \n"
     ]
    }
   ],
   "source": [
    "print(df1.head())"
   ]
  },
  {
   "cell_type": "code",
   "execution_count": 4,
   "metadata": {},
   "outputs": [],
   "source": [
    "vectorizer = TfidfVectorizer(max_features=2000,ngram_range=(1,3),max_df=0.50)\n",
    "y = vectorizer.fit_transform(df1['text'])\n",
    "X=y.toarray()\n",
    "terms = vectorizer.get_feature_names()"
   ]
  },
  {
   "cell_type": "code",
   "execution_count": 5,
   "metadata": {},
   "outputs": [
    {
     "name": "stdout",
     "output_type": "stream",
     "text": [
      "2 0.009805045098986404\n",
      "3 0.011580347830924431\n",
      "4 0.012005966461974474\n",
      "5 0.013162470978665772\n",
      "6 0.013469029370577727\n",
      "7 0.01515875416770231\n",
      "8 0.016053105556242075\n"
     ]
    },
    {
     "data": {
      "image/png": "[encoded data removed]",
      "text/plain": [
       "<Figure size 432x288 with 1 Axes>"
      ]
     },
     "metadata": {
      "needs_background": "light"
     },
     "output_type": "display_data"
    }
   ],
   "source": [
    "from sklearn.cluster import KMeans\n",
    "from scipy.spatial.distance import cdist\n",
    "from sklearn.metrics import silhouette_score\n",
    "scores=[]\n",
    "k=range(2,9)\n",
    "for n in k:\n",
    "    clusterer = KMeans(n_clusters=n)\n",
    "    preds = clusterer.fit_predict(X)\n",
    "    centers = clusterer.cluster_centers_\n",
    "    score = silhouette_score (X, preds, metric='euclidean')\n",
    "    scores.append(score)\n",
    "    print(n,score)\n",
    "plt.plot(k,scores)\n",
    "plt.title(\"Silhouette score values vs Numbers of Clusters\")\n",
    "plt.show()   "
   ]
  },
  {
   "cell_type": "code",
   "execution_count": 6,
   "metadata": {},
   "outputs": [
    {
     "name": "stdout",
     "output_type": "stream",
     "text": [
      "[[ 8.11864089e-04  1.97156248e-03  6.17720964e-04 ...  4.58009687e-05\n",
      "   4.07448220e-03  4.83839410e-04]\n",
      " [ 3.61569441e-04  1.18461646e-03  7.78264982e-04 ... -1.90277481e-16\n",
      "   4.98319073e-03  9.35436745e-04]\n",
      " [ 1.56334041e-03  3.39570590e-03  1.24181664e-03 ...  1.61906496e-05\n",
      "   2.56523091e-03  8.21589120e-04]\n",
      " ...\n",
      " [ 4.59701721e-17  3.08427773e-04 -1.64798730e-17 ...  1.59377719e-17\n",
      "   3.87627814e-04  8.95062774e-05]\n",
      " [ 4.34968922e-05  3.16587034e-17  1.90660124e-04 ...  8.13151629e-18\n",
      "   1.04083409e-17 -4.33680869e-19]\n",
      " [ 4.04063518e-04  1.45362727e-03  3.37160363e-04 ...  2.78057817e-05\n",
      "   1.78095395e-03  5.75802131e-04]]\n"
     ]
    }
   ],
   "source": [
    "from sklearn.cluster import KMeans\n",
    "km = KMeans(n_clusters=7)\n",
    "km.fit(X)\n",
    "labels = km.predict(X)\n",
    "clusters = km.labels_.tolist()\n",
    "centroids = km.cluster_centers_\n",
    "print(centroids)"
   ]
  },
  {
   "cell_type": "code",
   "execution_count": 7,
   "metadata": {},
   "outputs": [],
   "source": [
    "df2=pd.Series( (v for v in clusters) )\n",
    "dff=pd.Series((v for v in X))\n",
    "lb=[]\n",
    "for x in (df1['bip']):\n",
    "        lb.append((str(x).split(',')[0]))\n",
    "        label=pd.DataFrame()\n",
    "        label['biptopics']=lb\n",
    "df3=pd.concat([df1['filename'],df2,dff,label['biptopics'],df1['text']],axis=1)\n",
    "df3.columns=['filename','clusterid','tfidf','bip1','text']        \n",
    "df3['bip1'] = df3['bip1'].str.replace('\\'', '')\n",
    "df3['bip1'] = df3['bip1'].str.replace('[', '')\n",
    "df3['bip1'] = df3['bip1'].str.replace(']', '')"
   ]
  },
  {
   "cell_type": "code",
   "execution_count": 43,
   "metadata": {},
   "outputs": [
    {
     "name": "stdout",
     "output_type": "stream",
     "text": [
      "           filename  clusterid  \\\n",
      "0  326914newsML.xml          2   \n",
      "1  326915newsML.xml          2   \n",
      "2  326916newsML.xml          2   \n",
      "3  326917newsML.xml          6   \n",
      "4  326918newsML.xml          6   \n",
      "\n",
      "                                               tfidf  bip1  \\\n",
      "0  [0.0, 0.0, 0.0, 0.0, 0.06260759881691935, 0.0,...  C181   \n",
      "1  [0.0, 0.0, 0.0, 0.0, 0.0, 0.0, 0.0, 0.0, 0.0, ...  C173   \n",
      "2  [0.0, 0.0, 0.0, 0.0, 0.05048134746790888, 0.0,...   C18   \n",
      "3  [0.0, 0.0, 0.0, 0.0, 0.0, 0.0, 0.0, 0.0, 0.0, ...   M11   \n",
      "4  [0.0, 0.0, 0.0, 0.0, 0.0, 0.0, 0.0, 0.0, 0.0, ...  G152   \n",
      "\n",
      "                                                text  \n",
      "0  canadian occident petroleum ltd emerg tuesday ...  \n",
      "1  bank america launch three year go forward synd...  \n",
      "2  deutsch bank manag board member rolf breuer sa...  \n",
      "3  european bours fell tuesday even wall street o...  \n",
      "4  french share close lower tuesday second consec...  \n"
     ]
    }
   ],
   "source": [
    "print(df3.head())"
   ]
  },
  {
   "cell_type": "code",
   "execution_count": 8,
   "metadata": {},
   "outputs": [],
   "source": [
    "from sklearn.model_selection import train_test_split\n",
    "def split(X1,y1):\n",
    "         X_train,X_test,y_train,y_test = train_test_split(X1,y1,test_size=0.20)\n",
    "         return X_train,X_test,y_train,y_test"
   ]
  },
  {
   "cell_type": "code",
   "execution_count": null,
   "metadata": {},
   "outputs": [],
   "source": [
    "classifiers for each cluster"
   ]
  },
  {
   "cell_type": "code",
   "execution_count": 9,
   "metadata": {},
   "outputs": [
    {
     "name": "stdout",
     "output_type": "stream",
     "text": [
      "0.5189340813464236\n",
      "0.25242687175150313\n"
     ]
    }
   ],
   "source": [
    "from sklearn import tree\n",
    "from sklearn import metrics\n",
    "from sklearn.metrics import f1_score\n",
    "from sklearn import model_selection\n",
    "from sklearn.preprocessing import LabelEncoder\n",
    "\n",
    "encoder = LabelEncoder()\n",
    "temp_df = df3[(df3['clusterid'] == 0)]\n",
    "\n",
    "bip=encoder.fit_transform(temp_df['bip1'])\n",
    "warnings.filterwarnings('ignore')\n",
    "X=temp_df['tfidf'].tolist()\n",
    "#bip=one.fit_transform(temp_df['bip1'].reshape(1,-1))\n",
    "y= bip\n",
    "# split the data into training and testing\n",
    "X_train,X_test,y_train,y_test = split(X,y)\n",
    "dtf = tree.DecisionTreeClassifier()\n",
    "dtf.fit(X_train,y_train)\n",
    "y_pred=dtf.predict(X_test)\n",
    "predicted = dtf.predict(X_test)\n",
    "#calculating accuracy of the classifier\n",
    "print(metrics.accuracy_score(y_test,y_pred))\n",
    "print(f1_score(y_test, y_pred, average='macro'))\n",
    "#labels=np.unique(y_pred)"
   ]
  },
  {
   "cell_type": "code",
   "execution_count": 10,
   "metadata": {},
   "outputs": [
    {
     "name": "stdout",
     "output_type": "stream",
     "text": [
      "0.8155255124291322\n",
      "0.5617065575325586\n"
     ]
    }
   ],
   "source": [
    "temp_df1 = df3[(df3['clusterid'] == 1)]\n",
    "from sklearn import svm\n",
    "X=temp_df1['tfidf'].tolist()\n",
    "y= temp_df1['bip1']\n",
    "X_train,X_test,y_train,y_test=split(X,y)\n",
    "svmclf = svm.LinearSVC(random_state=0,tol=1e-5, C=1).fit(X_train, y_train)\n",
    "y_pred=svmclf.predict(X_test)\n",
    "#evaluating accuracy metric\n",
    "print(metrics.accuracy_score(y_test,y_pred))\n",
    "print(f1_score(y_test, y_pred, average='macro')) "
   ]
  },
  {
   "cell_type": "code",
   "execution_count": 11,
   "metadata": {},
   "outputs": [
    {
     "name": "stdout",
     "output_type": "stream",
     "text": [
      "0.6397265782066747\n",
      "0.26104974547706955\n"
     ]
    }
   ],
   "source": [
    "temp_df2 = df3[(df3['clusterid'] == 2)]\n",
    "from sklearn.linear_model import LogisticRegression\n",
    "X=temp_df2['tfidf'].tolist()\n",
    "y= temp_df2['bip1']\n",
    "X_train,X_test,y_train,y_test=split(X,y)\n",
    "reg = LogisticRegression(random_state=2, solver='lbfgs',multi_class='multinomial',max_iter=1000).fit(X_train, y_train)\n",
    "y_pred=reg.predict(X_test)\n",
    "print(metrics.accuracy_score(y_test, y_pred))\n",
    "print(f1_score(y_test, y_pred, average='macro')) "
   ]
  },
  {
   "cell_type": "code",
   "execution_count": 12,
   "metadata": {},
   "outputs": [
    {
     "name": "stdout",
     "output_type": "stream",
     "text": [
      "0.7458981909970551\n",
      "0.14910723182702568\n"
     ]
    }
   ],
   "source": [
    "temp_df3 = df3[(df3['clusterid'] == 3)]\n",
    "from sklearn.ensemble import RandomForestClassifier\n",
    "from sklearn.model_selection import cross_val_score\n",
    "from sklearn.datasets import make_classification\n",
    "X=temp_df3['tfidf'].tolist()\n",
    "y= temp_df3['bip1']\n",
    "X_train,X_test,y_train,y_test=split(X,y)\n",
    "rclfr = RandomForestClassifier(criterion='gini',\n",
    "                                n_estimators=500, \n",
    "                                random_state=1,\n",
    "                                n_jobs=2)\n",
    "rclfr.fit(X_train,y_train)\n",
    "\n",
    "y_pred=rclfr.predict(X_test)\n",
    "\n",
    "print(metrics.accuracy_score(y_test,y_pred))\n",
    "print(f1_score(y_test, y_pred, average='macro')) "
   ]
  },
  {
   "cell_type": "code",
   "execution_count": 13,
   "metadata": {},
   "outputs": [
    {
     "name": "stdout",
     "output_type": "stream",
     "text": [
      "0.9756756756756757\n",
      "0.3958847736625515\n"
     ]
    }
   ],
   "source": [
    "temp_df4 = df3[(df3['clusterid'] == 4)]\n",
    "from sklearn.neural_network import MLPClassifier\n",
    "X=temp_df4['tfidf'].tolist()\n",
    "y= temp_df4['bip1']\n",
    "mlpclf = MLPClassifier(solver='lbfgs', alpha=1e-5,hidden_layer_sizes=(5,2), random_state=1)\n",
    "X_train,X_test,y_train,y_test=split(X,y)\n",
    "mlpclf.fit(X_train, y_train)      \n",
    "y_pred=mlpclf.predict(X_test)\n",
    "#calculating accuracy of the classifier\n",
    "print(metrics.accuracy_score(y_test,y_pred))\n",
    "print(f1_score(y_test, y_pred, average='macro')) "
   ]
  },
  {
   "cell_type": "code",
   "execution_count": 14,
   "metadata": {},
   "outputs": [
    {
     "name": "stdout",
     "output_type": "stream",
     "text": [
      "0.330150068212824\n"
     ]
    }
   ],
   "source": [
    "temp_df5 = df3[(df3['clusterid'] == 5)]\n",
    "from sklearn import neighbors\n",
    "X=temp_df4['tfidf'].tolist()\n",
    "y= temp_df4['bip1']\n",
    "clf = neighbors.KNeighborsClassifier(n_neighbors=5, weights='uniform', algorithm='auto')\n",
    "X_train,X_test,y_train,y_test=split(X,y)\n",
    "clf.fit(X_train, y_train)\n",
    "y_pred=clf.predict(X_test)\n",
    "print(f1_score(y_test, y_pred, average='macro')) "
   ]
  },
  {
   "cell_type": "code",
   "execution_count": 15,
   "metadata": {},
   "outputs": [
    {
     "name": "stdout",
     "output_type": "stream",
     "text": [
      "0.21974669448031808\n"
     ]
    }
   ],
   "source": [
    "temp_df6 = df3[(df3['clusterid'] == 6)]\n",
    "X=temp_df6['tfidf'].tolist()\n",
    "y= temp_df6['bip1']\n",
    "X_train,X_test,y_train,y_test=split(X,y)\n",
    "\n",
    "clf = neighbors.KNeighborsClassifier(n_neighbors=5, weights='uniform', algorithm='auto')\n",
    "\n",
    "clf.fit(X_train, y_train)\n",
    "y_pred=clf.predict(X_test)\n",
    "print(f1_score(y_test, y_pred, average='macro')) "
   ]
  },
  {
   "cell_type": "code",
   "execution_count": null,
   "metadata": {},
   "outputs": [],
   "source": [
    "Fetaure Extraction using RNN LSTM"
   ]
  },
  {
   "cell_type": "code",
   "execution_count": 16,
   "metadata": {},
   "outputs": [
    {
     "name": "stderr",
     "output_type": "stream",
     "text": [
      "Using TensorFlow backend.\n"
     ]
    }
   ],
   "source": [
    "from keras.layers.embeddings import Embedding\n",
    "from keras.preprocessing.text import Tokenizer\n",
    "word_vectors = dict()\n",
    "f=open('C:/Data/glove.6B.300d.txt', encoding=\"utf8\")\n",
    "for line in f:\n",
    "    values = line.split()\n",
    "    word = values[0]\n",
    "    coefs = np.asarray(values[1:], dtype='float32')\n",
    "    word_vectors[word] = coefs\n",
    "f.close()\n",
    "tokenizer = Tokenizer(num_words=6000)\n",
    "word_index = tokenizer.word_index\n",
    "embedding_matrix = np.zeros((len(word_index) + 1, 300))\n",
    "for word, i in word_index.items():\n",
    "    embedding_vector = word_vectors.get(word)\n",
    "    if embedding_vector is not None:\n",
    "        # words not found in embedding index will be all-zeros.\n",
    "        embedding_matrix[i] = embedding_vector\n",
    "embedding_layer = Embedding(len(word_index) + 1,\n",
    "                            300,\n",
    "                            weights=[embedding_matrix],\n",
    "                            trainable=False)    \n",
    "    # Adding 1 because of  reserved 0 index\n",
    " \n",
    "   "
   ]
  },
  {
   "cell_type": "code",
   "execution_count": 17,
   "metadata": {},
   "outputs": [],
   "source": [
    "def token(cid):    \n",
    "    if cid==0:\n",
    "        x= temp_df['text'].values\n",
    "       \n",
    "        y = temp_df['bip1'].values\n",
    "    elif cid==1:\n",
    "        x= temp_df1['text'].values\n",
    "        \n",
    "        y = temp_df1['bip1'].values\n",
    "                \n",
    "       \n",
    "    elif cid==2:\n",
    "        x= temp_df2['text'].values\n",
    "        y = temp_df2['bip1'].values\n",
    "    elif cid==3:\n",
    "        x= temp_df3['text'].values\n",
    "        y = temp_df3['bip1'].values\n",
    "    elif cid==4:\n",
    "        x= temp_df4['text'].values\n",
    "        y = temp_df4['bip1'].values\n",
    "    elif cid==5:\n",
    "        x= temp_df5['text'].values\n",
    "        y = temp_df5['bip1'].values\n",
    "    elif cid==6:\n",
    "        x= temp_df6['text'].values\n",
    "        y = temp_df6['bip1'].values\n",
    "    elif cid==7:\n",
    "        x= temp_df7['text'].values\n",
    "        y = temp_df7['bip1'].values  \n",
    "    x_train,x_test,y_train,y_test = split(x,y)\n",
    "    \n",
    "    encoder = LabelEncoder()\n",
    "    y=encoder.fit_transform(y)\n",
    "    \n",
    "    tokenizer.fit_on_texts(x)\n",
    "    x=tokenizer.texts_to_sequences(x)\n",
    "    maxlen = 50\n",
    "    x=pad_sequences(x,maxlen=maxlen)\n",
    " \n",
    "    y=to_categorical(y)\n",
    "   \n",
    "    return x,y"
   ]
  },
  {
   "cell_type": "code",
   "execution_count": 44,
   "metadata": {},
   "outputs": [],
   "source": [
    "from keras import Model\n",
    "from keras import backend as K\n",
    "import keras\n",
    "from keras.preprocessing.sequence import pad_sequences\n",
    "from keras.models import Sequential\n",
    "from keras.layers import Dense, Flatten, LSTM, Conv1D, MaxPooling1D, Dropout, Activation,GlobalMaxPooling1D\n",
    "from keras.utils import to_categorical\n",
    "from keras.layers import SpatialDropout1D\n",
    "from keras.callbacks import EarlyStopping\n",
    "warnings.filterwarnings('ignore')\n"
   ]
  },
  {
   "cell_type": "code",
   "execution_count": null,
   "metadata": {},
   "outputs": [],
   "source": [
    "Application of deep neural network using new features "
   ]
  },
  {
   "cell_type": "code",
   "execution_count": 37,
   "metadata": {},
   "outputs": [
    {
     "name": "stdout",
     "output_type": "stream",
     "text": [
      "for cluster id: 0\n",
      "Model: \"sequential_15\"\n",
      "_________________________________________________________________\n",
      "Layer (type)                 Output Shape              Param #   \n",
      "=================================================================\n",
      "embedding_16 (Embedding)     (None, None, 300)         1800000   \n",
      "_________________________________________________________________\n",
      "spatial_dropout1d_14 (Spatia (None, None, 300)         0         \n",
      "_________________________________________________________________\n",
      "lstm_14 (LSTM)               (None, 64)                93440     \n",
      "_________________________________________________________________\n",
      "dense_14 (Dense)             (None, 42)                2730      \n",
      "=================================================================\n",
      "Total params: 1,896,170\n",
      "Trainable params: 1,896,170\n",
      "Non-trainable params: 0\n",
      "_________________________________________________________________\n",
      "None\n",
      "Train on 2136 samples, validate on 1425 samples\n",
      "Epoch 1/3\n",
      "2136/2136 [==============================] - 52s 24ms/step - loss: 2.4465 - acc: 0.3404 - val_loss: 2.2201 - val_acc: 0.3628\n",
      "Epoch 2/3\n",
      "2136/2136 [==============================] - 55s 26ms/step - loss: 1.9732 - acc: 0.4293 - val_loss: 2.0756 - val_acc: 0.3867\n",
      "Epoch 3/3\n",
      "2136/2136 [==============================] - 55s 26ms/step - loss: 1.7284 - acc: 0.5075 - val_loss: 1.9638 - val_acc: 0.4470\n",
      "for cluster id: 1\n",
      "Model: \"sequential_16\"\n",
      "_________________________________________________________________\n",
      "Layer (type)                 Output Shape              Param #   \n",
      "=================================================================\n",
      "embedding_17 (Embedding)     (None, None, 300)         1800000   \n",
      "_________________________________________________________________\n",
      "spatial_dropout1d_15 (Spatia (None, None, 300)         0         \n",
      "_________________________________________________________________\n",
      "lstm_15 (LSTM)               (None, 64)                93440     \n",
      "_________________________________________________________________\n",
      "dense_15 (Dense)             (None, 49)                3185      \n",
      "=================================================================\n",
      "Total params: 1,896,625\n",
      "Trainable params: 1,896,625\n",
      "Non-trainable params: 0\n",
      "_________________________________________________________________\n",
      "None\n",
      "Train on 6877 samples, validate on 4586 samples\n",
      "Epoch 1/3\n",
      "6877/6877 [==============================] - 181s 26ms/step - loss: 1.8687 - acc: 0.4970 - val_loss: 1.2332 - val_acc: 0.6675\n",
      "Epoch 2/3\n",
      "6877/6877 [==============================] - 177s 26ms/step - loss: 1.1587 - acc: 0.6679 - val_loss: 1.0813 - val_acc: 0.6984\n",
      "Epoch 3/3\n",
      "6877/6877 [==============================] - 174s 25ms/step - loss: 0.9330 - acc: 0.7262 - val_loss: 0.9923 - val_acc: 0.7207\n",
      "for cluster id: 2\n",
      "Model: \"sequential_17\"\n",
      "_________________________________________________________________\n",
      "Layer (type)                 Output Shape              Param #   \n",
      "=================================================================\n",
      "embedding_18 (Embedding)     (None, None, 300)         1800000   \n",
      "_________________________________________________________________\n",
      "spatial_dropout1d_16 (Spatia (None, None, 300)         0         \n",
      "_________________________________________________________________\n",
      "lstm_16 (LSTM)               (None, 64)                93440     \n",
      "_________________________________________________________________\n",
      "dense_16 (Dense)             (None, 53)                3445      \n",
      "=================================================================\n",
      "Total params: 1,896,885\n",
      "Trainable params: 1,896,885\n",
      "Non-trainable params: 0\n",
      "_________________________________________________________________\n",
      "None\n",
      "Train on 7460 samples, validate on 4974 samples\n",
      "Epoch 1/3\n",
      "7460/7460 [==============================] - 190s 26ms/step - loss: 2.4763 - acc: 0.2997 - val_loss: 2.3024 - val_acc: 0.3478\n",
      "Epoch 2/3\n",
      "7460/7460 [==============================] - 186s 25ms/step - loss: 2.0802 - acc: 0.4083 - val_loss: 2.0301 - val_acc: 0.4226\n",
      "Epoch 3/3\n",
      "7460/7460 [==============================] - 185s 25ms/step - loss: 1.7620 - acc: 0.5003 - val_loss: 1.9011 - val_acc: 0.4682\n",
      "for cluster id: 3\n",
      "Model: \"sequential_18\"\n",
      "_________________________________________________________________\n",
      "Layer (type)                 Output Shape              Param #   \n",
      "=================================================================\n",
      "embedding_19 (Embedding)     (None, None, 300)         1800000   \n",
      "_________________________________________________________________\n",
      "spatial_dropout1d_17 (Spatia (None, None, 300)         0         \n",
      "_________________________________________________________________\n",
      "lstm_17 (LSTM)               (None, 64)                93440     \n",
      "_________________________________________________________________\n",
      "dense_17 (Dense)             (None, 57)                3705      \n",
      "=================================================================\n",
      "Total params: 1,897,145\n",
      "Trainable params: 1,897,145\n",
      "Non-trainable params: 0\n",
      "_________________________________________________________________\n",
      "None\n",
      "Train on 7131 samples, validate on 4754 samples\n",
      "Epoch 1/3\n",
      "7131/7131 [==============================] - 181s 25ms/step - loss: 1.6307 - acc: 0.6252 - val_loss: 1.3426 - val_acc: 0.6702\n",
      "Epoch 2/3\n",
      "7131/7131 [==============================] - 177s 25ms/step - loss: 1.3402 - acc: 0.6619 - val_loss: 1.2863 - val_acc: 0.6969\n",
      "Epoch 3/3\n",
      "7131/7131 [==============================] - 174s 24ms/step - loss: 1.1623 - acc: 0.7055 - val_loss: 1.2826 - val_acc: 0.7093\n",
      "for cluster id: 4\n",
      "Model: \"sequential_19\"\n",
      "_________________________________________________________________\n",
      "Layer (type)                 Output Shape              Param #   \n",
      "=================================================================\n",
      "embedding_20 (Embedding)     (None, None, 300)         1800000   \n",
      "_________________________________________________________________\n",
      "spatial_dropout1d_18 (Spatia (None, None, 300)         0         \n",
      "_________________________________________________________________\n",
      "lstm_18 (LSTM)               (None, 64)                93440     \n",
      "_________________________________________________________________\n",
      "dense_18 (Dense)             (None, 4)                 260       \n",
      "=================================================================\n",
      "Total params: 1,893,700\n",
      "Trainable params: 1,893,700\n",
      "Non-trainable params: 0\n",
      "_________________________________________________________________\n",
      "None\n",
      "Train on 1108 samples, validate on 739 samples\n",
      "Epoch 1/3\n",
      "1108/1108 [==============================] - 28s 25ms/step - loss: 0.1542 - acc: 0.9810 - val_loss: 0.0691 - val_acc: 0.9905\n",
      "Epoch 2/3\n",
      "1108/1108 [==============================] - 29s 27ms/step - loss: 0.0933 - acc: 0.9838 - val_loss: 0.0677 - val_acc: 0.9905\n",
      "Epoch 3/3\n",
      "1108/1108 [==============================] - 28s 25ms/step - loss: 0.0845 - acc: 0.9838 - val_loss: 0.0608 - val_acc: 0.9905\n",
      "for cluster id: 5\n",
      "Model: \"sequential_20\"\n",
      "_________________________________________________________________\n",
      "Layer (type)                 Output Shape              Param #   \n",
      "=================================================================\n",
      "embedding_21 (Embedding)     (None, None, 300)         1800000   \n",
      "_________________________________________________________________\n",
      "spatial_dropout1d_19 (Spatia (None, None, 300)         0         \n",
      "_________________________________________________________________\n",
      "lstm_19 (LSTM)               (None, 64)                93440     \n",
      "_________________________________________________________________\n",
      "dense_19 (Dense)             (None, 4)                 260       \n",
      "=================================================================\n",
      "Total params: 1,893,700\n",
      "Trainable params: 1,893,700\n",
      "Non-trainable params: 0\n",
      "_________________________________________________________________\n",
      "None\n",
      "Train on 676 samples, validate on 452 samples\n",
      "Epoch 1/3\n",
      "676/676 [==============================] - 19s 28ms/step - loss: 0.1338 - acc: 0.9837 - val_loss: 0.0220 - val_acc: 0.9978\n",
      "Epoch 2/3\n",
      "676/676 [==============================] - 18s 26ms/step - loss: 0.0449 - acc: 0.9941 - val_loss: 0.0244 - val_acc: 0.9978\n",
      "Epoch 3/3\n",
      "676/676 [==============================] - 17s 25ms/step - loss: 0.0297 - acc: 0.9941 - val_loss: 0.0281 - val_acc: 0.9978\n",
      "for cluster id: 6\n",
      "Model: \"sequential_21\"\n",
      "_________________________________________________________________\n",
      "Layer (type)                 Output Shape              Param #   \n",
      "=================================================================\n",
      "embedding_22 (Embedding)     (None, None, 300)         1800000   \n",
      "_________________________________________________________________\n",
      "spatial_dropout1d_20 (Spatia (None, None, 300)         0         \n",
      "_________________________________________________________________\n",
      "lstm_20 (LSTM)               (None, 64)                93440     \n",
      "_________________________________________________________________\n",
      "dense_20 (Dense)             (None, 50)                3250      \n",
      "=================================================================\n",
      "Total params: 1,896,690\n",
      "Trainable params: 1,896,690\n",
      "Non-trainable params: 0\n",
      "_________________________________________________________________\n",
      "None\n",
      "Train on 3634 samples, validate on 2423 samples\n",
      "Epoch 1/3\n",
      "3634/3634 [==============================] - 101s 28ms/step - loss: 1.5980 - acc: 0.5539 - val_loss: 1.1210 - val_acc: 0.6975\n",
      "Epoch 2/3\n",
      "3634/3634 [==============================] - 97s 27ms/step - loss: 0.9375 - acc: 0.7694 - val_loss: 0.9615 - val_acc: 0.7714\n",
      "Epoch 3/3\n",
      "3634/3634 [==============================] - 128s 35ms/step - loss: 0.7155 - acc: 0.8308 - val_loss: 0.9251 - val_acc: 0.7705\n"
     ]
    }
   ],
   "source": [
    "for h in range(0,7):\n",
    "    X,y=token(h)\n",
    "    print('for cluster id:',h)\n",
    "    model = Sequential()\n",
    "    model.add(Embedding(6000,300))\n",
    "    model.add(SpatialDropout1D(0.5))\n",
    "    model.add(LSTM(64, dropout=0.5, recurrent_dropout=0.5))\n",
    "    model.add(Dense(y.shape[1], activation='softmax'))\n",
    "    \n",
    "    get_3rd_layer_output = K.function([model.layers[0].input],\n",
    "                                  [model.layers[3].output])\n",
    "    layer_output = get_3rd_layer_output([X])\n",
    "    p=np.asarray(layer_output)\n",
    "\n",
    "    result = p[0, :,:]\n",
    "    new=pd.DataFrame()\n",
    "    new['features']= result.tolist()\n",
    "    if(h==0):\n",
    "        temp_df['newfeatures']=new['features'].copy()\n",
    "    elif(h==1):\n",
    "        temp_df1['newfeatures']=new['features'].copy()\n",
    "    elif(h==2):\n",
    "        temp_df2['newfeatures']=new['features'].copy()\n",
    "    elif(h==3):\n",
    "        temp_df3['newfeatures']=new['features'].copy()\n",
    "    if(h==4):\n",
    "         temp_df4['newfeatures']=new['features'].copy()\n",
    "    elif(h==5):\n",
    "         temp_df5['newfeatures']=new['features'].copy()\n",
    "    elif(h==6):\n",
    "         temp_df6['newfeatures']=new['features'].copy()\n",
    "    \n",
    "    model.compile(optimizer='adam', loss='categorical_crossentropy', metrics=['acc'])\n",
    "    print(model.summary())\n",
    "    hist2 = model.fit(new['features'],np.array(y), epochs=3, batch_size=2,validation_split=0.4,callbacks=[EarlyStopping(monitor='val_loss',patience=7, min_delta=0.0001)])\n",
    "    \n",
    "   "
   ]
  },
  {
   "cell_type": "code",
   "execution_count": 38,
   "metadata": {},
   "outputs": [
    {
     "name": "stdout",
     "output_type": "stream",
     "text": [
      "             filename  clusterid  \\\n",
      "18   368479newsML.xml          0   \n",
      "34   377576newsML.xml          0   \n",
      "47   377589newsML.xml          0   \n",
      "67   393155newsML.xml          0   \n",
      "82   393170newsML.xml          0   \n",
      "97   406197newsML.xml          0   \n",
      "102  406202newsML.xml          0   \n",
      "307  429607newsML.xml          0   \n",
      "310  429610newsML.xml          0   \n",
      "458  429758newsML.xml          0   \n",
      "\n",
      "                                                 tfidf bip1  \\\n",
      "18   [0.0, 0.0, 0.0, 0.0, 0.0, 0.0, 0.0, 0.0, 0.0, ...  M12   \n",
      "34   [0.0, 0.0, 0.0, 0.0, 0.0, 0.0, 0.0, 0.0, 0.0, ...  E11   \n",
      "47   [0.0, 0.0, 0.05206683607506423, 0.0, 0.0, 0.0,...  C11   \n",
      "67   [0.0, 0.0, 0.0, 0.0, 0.0, 0.0, 0.0, 0.0, 0.0, ...  E12   \n",
      "82   [0.0, 0.0, 0.0, 0.0, 0.0, 0.0, 0.0, 0.0, 0.0, ...  E12   \n",
      "97   [0.0, 0.0, 0.0, 0.0, 0.0, 0.0, 0.0, 0.0, 0.0, ...  C15   \n",
      "102  [0.0, 0.0, 0.0, 0.0, 0.0, 0.0, 0.0, 0.0, 0.0, ...  M13   \n",
      "307  [0.0, 0.0, 0.0, 0.0, 0.0, 0.0, 0.0, 0.0, 0.0, ...  M13   \n",
      "310  [0.0, 0.0, 0.0, 0.0, 0.0, 0.0, 0.0, 0.0, 0.0, ...  M13   \n",
      "458  [0.0, 0.0, 0.0, 0.04364185297408158, 0.0341154...  E12   \n",
      "\n",
      "                                                  text  \\\n",
      "18   govern indic coupon yield year secur market pr...   \n",
      "34   ireland s central bank said thursday believ ec...   \n",
      "47   royal belg chief execut offic jean pierr gerar...   \n",
      "67   intervent foreign exchang market close zero al...   \n",
      "82   ireland s central bank said thursday happi cur...   \n",
      "97   belgian bank sector move inexor toward concent...   \n",
      "102  bank itali oper renew expir repo amount auctio...   \n",
      "307  feder reserv bank york confirm ad perman reser...   \n",
      "310  feder reserv bank york said buy coupon u s dom...   \n",
      "458  edward osborn consult edey roger pti thi week ...   \n",
      "\n",
      "                                           newfeatures  \n",
      "18   [0.02362413890659809, 0.024143187329173088, 0....  \n",
      "34   [0.023272134363651276, 0.024146905168890953, 0...  \n",
      "47   [0.02357940934598446, 0.024166375398635864, 0....  \n",
      "67   [0.023390963673591614, 0.023845123127102852, 0...  \n",
      "82   [0.023343518376350403, 0.02406453900039196, 0....  \n",
      "97   [0.023205194622278214, 0.023979654535651207, 0...  \n",
      "102  [0.023458067327737808, 0.024244245141744614, 0...  \n",
      "307  [0.023954059928655624, 0.023737117648124695, 0...  \n",
      "310  [0.02417633682489395, 0.024077188223600388, 0....  \n",
      "458  [0.02345576509833336, 0.02383301965892315, 0.0...  \n"
     ]
    }
   ],
   "source": [
    "print(temp_df.head(10))"
   ]
  },
  {
   "cell_type": "code",
   "execution_count": 40,
   "metadata": {},
   "outputs": [
    {
     "name": "stdout",
     "output_type": "stream",
     "text": [
      "            filename  clusterid  \\\n",
      "3   326917newsML.xml          6   \n",
      "4   326918newsML.xml          6   \n",
      "5   326919newsML.xml          6   \n",
      "6   326920newsML.xml          6   \n",
      "7   368468newsML.xml          6   \n",
      "13  368474newsML.xml          6   \n",
      "21  368482newsML.xml          6   \n",
      "24  377566newsML.xml          6   \n",
      "26  377568newsML.xml          6   \n",
      "32  377574newsML.xml          6   \n",
      "\n",
      "                                                tfidf  bip1  \\\n",
      "3   [0.0, 0.0, 0.0, 0.0, 0.0, 0.0, 0.0, 0.0, 0.0, ...   M11   \n",
      "4   [0.0, 0.0, 0.0, 0.0, 0.0, 0.0, 0.0, 0.0, 0.0, ...  G152   \n",
      "5   [0.0, 0.0, 0.0, 0.0, 0.0, 0.0, 0.0, 0.0, 0.0, ...   M11   \n",
      "6   [0.0, 0.0, 0.0, 0.0, 0.0, 0.0, 0.0, 0.0, 0.0, ...   M14   \n",
      "7   [0.0, 0.0, 0.0, 0.0, 0.0, 0.0, 0.0, 0.0, 0.0, ...   M11   \n",
      "13  [0.0, 0.0, 0.0, 0.0, 0.0, 0.0, 0.0, 0.0, 0.0, ...   M11   \n",
      "21  [0.0, 0.0, 0.0, 0.0, 0.0, 0.0, 0.0, 0.0, 0.058...   E71   \n",
      "24  [0.0, 0.0, 0.0, 0.0, 0.0, 0.0, 0.0, 0.0, 0.122...   M11   \n",
      "26  [0.0, 0.0, 0.0, 0.0, 0.0, 0.0, 0.0, 0.0, 0.0, ...   M12   \n",
      "32  [0.0, 0.0, 0.0, 0.0, 0.0, 0.0, 0.0, 0.0, 0.0, ...   M11   \n",
      "\n",
      "                                                 text  \\\n",
      "3   european bours fell tuesday even wall street o...   \n",
      "4   french share close lower tuesday second consec...   \n",
      "5   london s ftse index end lower thursday depress...   \n",
      "6   world coffe market tumbl spectacular ralli tri...   \n",
      "7   today s close previou close bombay share index...   \n",
      "13  share bombay stock exchang close small loss li...   \n",
      "21  daili indic wednesday previou rupe us inter ba...   \n",
      "24  madrid stock buck trend march higher thursday ...   \n",
      "26  dutch bond end thursday midsess low market shr...   \n",
      "32  swiss share close percent lower share ciba spe...   \n",
      "\n",
      "                                          newfeatures  \n",
      "3   [0.020151762291789055, 0.02021486684679985, 0....  \n",
      "4   [0.020077843219041824, 0.02011847496032715, 0....  \n",
      "5   [0.019692212343215942, 0.020031537860631943, 0...  \n",
      "6   [0.02009650319814682, 0.02017928846180439, 0.0...  \n",
      "7   [0.019648591056466103, 0.01938534341752529, 0....  \n",
      "13  [0.019885173067450523, 0.02029033936560154, 0....  \n",
      "21  [0.02001567743718624, 0.01944461464881897, 0.0...  \n",
      "24  [0.020428547635674477, 0.020343394950032234, 0...  \n",
      "26  [0.019629599526524544, 0.020249376073479652, 0...  \n",
      "32  [0.01982697658240795, 0.02010301686823368, 0.0...  \n"
     ]
    }
   ],
   "source": [
    "print(temp_df6.head(10))"
   ]
  },
  {
   "cell_type": "code",
   "execution_count": null,
   "metadata": {},
   "outputs": [],
   "source": []
  },
  {
   "cell_type": "code",
   "execution_count": null,
   "metadata": {},
   "outputs": [],
   "source": []
  }
 ],
 "metadata": {
  "kernelspec": {
   "display_name": "Python 3",
   "language": "python",
   "name": "python3"
  },
  "language_info": {
   "codemirror_mode": {
    "name": "ipython",
    "version": 3
   },
   "file_extension": ".py",
   "mimetype": "text/x-python",
   "name": "python",
   "nbconvert_exporter": "python",
   "pygments_lexer": "ipython3",
   "version": "3.8.5"
  }
 },
 "nbformat": 4,
 "nbformat_minor": 2
}
